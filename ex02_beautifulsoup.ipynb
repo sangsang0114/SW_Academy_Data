{
  "nbformat": 4,
  "nbformat_minor": 0,
  "metadata": {
    "colab": {
      "provenance": [],
      "authorship_tag": "ABX9TyNRmCTOjxyGDsQ0zwJKmAmc",
      "include_colab_link": true
    },
    "kernelspec": {
      "name": "python3",
      "display_name": "Python 3"
    },
    "language_info": {
      "name": "python"
    }
  },
  "cells": [
    {
      "cell_type": "markdown",
      "metadata": {
        "id": "view-in-github",
        "colab_type": "text"
      },
      "source": [
        "<a href=\"https://colab.research.google.com/github/sangsang0114/SW_Academy_Data/blob/main/ex02_beautifulsoup.ipynb\" target=\"_parent\"><img src=\"https://colab.research.google.com/assets/colab-badge.svg\" alt=\"Open In Colab\"/></a>"
      ]
    },
    {
      "cell_type": "code",
      "execution_count": null,
      "metadata": {
        "colab": {
          "base_uri": "https://localhost:8080/"
        },
        "id": "igpziLk9S9am",
        "outputId": "309f91ae-0d56-4e43-b0c9-387e2b92c36f"
      },
      "outputs": [
        {
          "output_type": "stream",
          "name": "stdout",
          "text": [
            "<html>\n",
            " <head>\n",
            "  <title>\n",
            "   web test\n",
            "  </title>\n",
            " </head>\n",
            " <body>\n",
            "  <p align=\"center\">\n",
            "   text content1\n",
            "  </p>\n",
            "  <p align=\"left\">\n",
            "   text content2\n",
            "  </p>\n",
            "  <p align=\"right\">\n",
            "   text content3\n",
            "  </p>\n",
            "  <img src=\"koala.jpg\"/>\n",
            " </body>\n",
            "</html>\n",
            "\n"
          ]
        }
      ],
      "source": [
        "html =  \"\"\"\n",
        "   <html>\n",
        "     <head>\n",
        "        <title> web test  </title>\n",
        "     </head>\n",
        "     <body>\n",
        "        <p align=\"center\" > text content1 </p>\n",
        "        <p align=\"left\" > text content2 </p>\n",
        "        <p align=\"right\" > text content3 </p>\n",
        "        <img src=\"koala.jpg\"/>\n",
        "     </body>\n",
        "   </html>\n",
        "\"\"\"\n",
        "from bs4 import BeautifulSoup\n",
        "bs = BeautifulSoup( html  )\n",
        "\n",
        "print( bs.prettify() )  # 들여쓰기로 정렬하여 리턴"
      ]
    },
    {
      "cell_type": "code",
      "source": [
        "print(bs.find(\"title\"))\n",
        "print(bs.find(\"p\"))\n",
        "print(bs.find(\"a\"))"
      ],
      "metadata": {
        "colab": {
          "base_uri": "https://localhost:8080/"
        },
        "id": "wJ-p_barTCl3",
        "outputId": "cc5d4334-3fb9-4086-ef4a-07c370c779d8"
      },
      "execution_count": null,
      "outputs": [
        {
          "output_type": "stream",
          "name": "stdout",
          "text": [
            "<title> web test  </title>\n",
            "<p align=\"center\"> text content1 </p>\n",
            "None\n"
          ]
        }
      ]
    },
    {
      "cell_type": "code",
      "source": [
        "from bs4 import BeautifulSoup\n",
        "bs = BeautifulSoup(html)\n",
        "print(bs.find(\"p\", align =\"center\"))\n",
        "print(bs.find(\"p\", align =\"right\"))\n",
        "print(bs.find(\"p\", align =\"left\"))"
      ],
      "metadata": {
        "colab": {
          "base_uri": "https://localhost:8080/"
        },
        "id": "wAphejc8TPou",
        "outputId": "24d1fa84-6e83-4248-d1b9-fd1e6d91cb77"
      },
      "execution_count": null,
      "outputs": [
        {
          "output_type": "stream",
          "name": "stdout",
          "text": [
            "<p align=\"center\"> text content1 </p>\n",
            "<p align=\"right\"> text content3 </p>\n",
            "<p align=\"left\"> text content2 </p>\n"
          ]
        }
      ]
    },
    {
      "cell_type": "code",
      "source": [
        "print(bs.find_all(\"p\"))"
      ],
      "metadata": {
        "colab": {
          "base_uri": "https://localhost:8080/"
        },
        "id": "oBi2Bg54TgE-",
        "outputId": "34d24eb6-fb84-42da-80a6-3dee9f747705"
      },
      "execution_count": null,
      "outputs": [
        {
          "output_type": "stream",
          "name": "stdout",
          "text": [
            "[<p align=\"center\"> text content1 </p>, <p align=\"left\"> text content2 </p>, <p align=\"right\"> text content3 </p>]\n"
          ]
        }
      ]
    },
    {
      "cell_type": "code",
      "source": [
        "headtag = bs.find(\"head\")\n",
        "print(headtag)\n",
        "\n",
        "print(headtag.find(\"title\"))\n",
        "print(headtag.find(\"a\"))\n",
        "print(headtag.find([\"p\", \"a\", \"title\"]))\n",
        "\n",
        "bodytag = bs.find(\"body\")\n",
        "list1 = bodytag.find_all([\"p\", \"img\"])\n",
        "for tag in list1:\n",
        "  print(tag)"
      ],
      "metadata": {
        "colab": {
          "base_uri": "https://localhost:8080/"
        },
        "id": "CGfqLmiwTjBd",
        "outputId": "1aa22e5b-c762-47ef-cf0b-565c5dd5db2b"
      },
      "execution_count": null,
      "outputs": [
        {
          "output_type": "stream",
          "name": "stdout",
          "text": [
            "<head>\n",
            "<title> web test  </title>\n",
            "</head>\n",
            "<title> web test  </title>\n",
            "None\n",
            "<title> web test  </title>\n",
            "<p align=\"center\"> text content1 </p>\n",
            "<p align=\"left\"> text content2 </p>\n",
            "<p align=\"right\"> text content3 </p>\n",
            "<img src=\"koala.jpg\"/>\n"
          ]
        }
      ]
    },
    {
      "cell_type": "code",
      "source": [
        "html =  \"\"\"\n",
        "   <html>\n",
        "     <head>\n",
        "        <title> web test  </title>\n",
        "     </head>\n",
        "     <body>\n",
        "        <p align=\"center\" > text content1 </p>\n",
        "        <p align=\"left\" > text content2 </p>\n",
        "        <p align=\"right\" > text content3 </p>\n",
        "        <img src=\"koala.jpg\" width=500  />\n",
        "     </body>\n",
        "   </html>\n",
        "  \"\"\"\n",
        "\n",
        "from bs4 import BeautifulSoup\n",
        "bs = BeautifulSoup(html, features=\"html.parser\")\n",
        "\n",
        "print(bs.find_all(align=\"center\"))\n",
        "print(bs.find_all(width=\"500\"))\n",
        "print(bs.find_all(test=\" text_ content1 \"))\n",
        "\n",
        "import re\n",
        "print(bs.find_all(text=re.compile(\" text +\")))\n",
        "print(bs.find_all(\"p\", limit=2))\n",
        "\n",
        "ptag = bs.find(\"p\")\n",
        "print(ptag)\n",
        "print(ptag.string)\n",
        "\n",
        "bodytag = bs.find(\"body\")\n",
        "print(bodytag.string)\n",
        "\n",
        "for i in bodytag.strings:\n",
        "  print(i)\n",
        "\n",
        "print(bodytag.get_text())\n",
        "print(bodytag.get_text(strip=True))\n",
        "print(bodytag.get_text('-',strip=True))\n"
      ],
      "metadata": {
        "colab": {
          "base_uri": "https://localhost:8080/"
        },
        "id": "-tanTepeTx5s",
        "outputId": "6b1795d3-9556-4992-fe73-bb0ca0c4eb05"
      },
      "execution_count": null,
      "outputs": [
        {
          "output_type": "stream",
          "name": "stdout",
          "text": [
            "[<p align=\"center\"> text content1 </p>]\n",
            "[<img src=\"koala.jpg\" width=\"500\"/>]\n",
            "[]\n",
            "[' text content1 ', ' text content2 ', ' text content3 ']\n",
            "[<p align=\"center\"> text content1 </p>, <p align=\"left\"> text content2 </p>]\n",
            "<p align=\"center\"> text content1 </p>\n",
            " text content1 \n",
            "None\n",
            "\n",
            "\n",
            " text content1 \n",
            "\n",
            "\n",
            " text content2 \n",
            "\n",
            "\n",
            " text content3 \n",
            "\n",
            "\n",
            "\n",
            "\n",
            "\n",
            " text content1 \n",
            " text content2 \n",
            " text content3 \n",
            "\n",
            "\n",
            "text content1text content2text content3\n",
            "text content1-text content2-text content3\n"
          ]
        },
        {
          "output_type": "stream",
          "name": "stderr",
          "text": [
            "<ipython-input-3-45b05d42e222>:23: DeprecationWarning: The 'text' argument to find()-type methods is deprecated. Use 'string' instead.\n",
            "  print(bs.find_all(text=re.compile(\" text +\")))\n"
          ]
        }
      ]
    },
    {
      "cell_type": "code",
      "source": [
        "html =  \"\"\"\n",
        "   <html>\n",
        "     <head>\n",
        "        <title> web test  </title>\n",
        "     </head>\n",
        "     <body>\n",
        "        <p class=\"ptag yellow\" align=\"center\" > text content1 </p>\n",
        "        <p class=\"ptag red\" align=\"left\" > text content2 </p>\n",
        "        <p class=\"ptag blue\" align=\"right\" > text content3 </p>\n",
        "        <img src=\"koala.jpg\" width=500  />\n",
        "        <a href=\"http://....\" > 뉴스제목</a>\n",
        "     </body>\n",
        "   </html>\n",
        "    \"\"\"\n",
        "from bs4 import BeautifulSoup\n",
        "bs = BeautifulSoup(html, features=\"html.parser\")\n",
        "print(bs.find(class_=\"yellow\"))\n",
        "\n",
        "p_tag = bs.find(\"p\")\n",
        "print(p_tag[\"class\"])\n",
        "print(p_tag[\"align\"])\n",
        "\n",
        "print(p_tag[\"class\"][1])\n",
        "p_tag[\"class\"][1] = \"white\"\n",
        "print(p_tag[\"class\"])\n",
        "\n",
        "p_tag[\"id\"] = \"P-TAG\"\n",
        "print(p_tag[\"id\"])\n",
        "\n",
        "del p_tag[\"align\"]\n",
        "# print(p_tag[\"algin\"]) #없는 속성 값을 불러오므로 오류가 발생\n",
        "\n",
        "print(p_tag.attrs)"
      ],
      "metadata": {
        "colab": {
          "base_uri": "https://localhost:8080/"
        },
        "id": "mwybv95NU7tH",
        "outputId": "68f29770-c2cc-4ebc-e087-f0c87df86134"
      },
      "execution_count": null,
      "outputs": [
        {
          "output_type": "stream",
          "name": "stdout",
          "text": [
            "<p align=\"center\" class=\"ptag yellow\"> text content1 </p>\n",
            "['ptag', 'yellow']\n",
            "center\n",
            "yellow\n",
            "['ptag', 'white']\n",
            "P-TAG\n",
            "{'class': ['ptag', 'white'], 'id': 'P-TAG'}\n"
          ]
        }
      ]
    },
    {
      "cell_type": "code",
      "source": [
        "html =  \"\"\"\n",
        "   <html>\n",
        "     <head>\n",
        "        <title> web test  </title>\n",
        "     </head>\n",
        "     <body>\n",
        "        <p class=\"ptag yellow \" align=\"center\" > text content1 </p>\n",
        "        <p class=\"ptag red \" align=\"left\" > text content2 </p>\n",
        "        <p class=\"ptag blue \" align=\"right\" > text content3 </p>\n",
        "        <img src=\"koala.jpg\" width=500  />\n",
        "     </body>\n",
        "   </html>\n",
        "    \"\"\"\n",
        "from bs4 import BeautifulSoup\n",
        "bs = BeautifulSoup(html, features=\"html.parser\")\n",
        "\n",
        "body_tag= bs.find(\"body\")\n",
        "for  i in body_tag.children  :\n",
        "    print(i)"
      ],
      "metadata": {
        "colab": {
          "base_uri": "https://localhost:8080/"
        },
        "id": "xnmDmtWKb4Ll",
        "outputId": "b3515760-c5f5-4f1e-97a0-cd3ab8f9cdcc"
      },
      "execution_count": null,
      "outputs": [
        {
          "output_type": "stream",
          "name": "stdout",
          "text": [
            "\n",
            "\n",
            "<p align=\"center\" class=\"ptag yellow\"> text content1 </p>\n",
            "\n",
            "\n",
            "<p align=\"left\" class=\"ptag red\"> text content2 </p>\n",
            "\n",
            "\n",
            "<p align=\"right\" class=\"ptag blue\"> text content3 </p>\n",
            "\n",
            "\n",
            "<img src=\"koala.jpg\" width=\"500\"/>\n",
            "\n",
            "\n"
          ]
        }
      ]
    },
    {
      "cell_type": "code",
      "source": [],
      "metadata": {
        "id": "9djrsh-tcfpE"
      },
      "execution_count": null,
      "outputs": []
    }
  ]
}