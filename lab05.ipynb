{
 "cells": [
  {
   "cell_type": "code",
   "execution_count": 5,
   "metadata": {
    "id": "0mkkdlKwzf-D",
    "outputId": "84d3e000-8b82-43b6-9b2b-6d0eb6fc3059"
   },
   "outputs": [],
   "source": [
    "import urllib.request\n",
    "\n",
    "client_id = \"client_id\"\n",
    "client_secret = \"client_secret\"\n",
    "\n",
    "def makeURL(sNode, search_text ):\n",
    "    base = \"https://openapi.naver.com/v1/search\"\n",
    "    node = \"/%s.json\" % sNode\n",
    "    parameters = \"?query=%s\" % urllib.parse.quote(search_text)\n",
    "    url = base + node + parameters\n",
    "    return url\n",
    "\n",
    "def requestURL(url):\n",
    "    req = urllib.request.Request(url)\n",
    "    req.add_header (\"X-Naver-Client-Id\",   client_id )\n",
    "    req.add_header(\"X-Naver-Client-Secret\",  client_secret)\n",
    "    try:\n",
    "        response = urllib.request.urlopen(req)   # 크롤링\n",
    "        if  response.status == 200 :  # 200이면 정상 응답\n",
    "            print(\"Url Request Success\")\n",
    "            data = response.read().decode('utf-8')\n",
    "            return data  # 크롤링 결과 반환\n",
    "\n",
    "    except Exception as e:  # url로 요청 중 오류가 발생시 실행\n",
    "        print(e)\n",
    "        print(\"Error for URL : %s\" %url)\n",
    "        return None\n",
    "\n",
    "import json\n",
    "\n",
    "def main():\n",
    "    print(\"네이버 검색 프로그램입니다.\")\n",
    "    search_text = input(\">검색할 키워드를 입력하세요.\")\n",
    "\n",
    "    answer = input (\">검색 카테고리를 선택하세요 \\n1. 네이버 뉴스,\\\n",
    "                    \\n2. 네이버 블로그 \\n3. 네이버 카페\\n\")\n",
    "    sNode = 'news'\n",
    "\n",
    "    if answer=='1' :\n",
    "        sNode = 'news'  # 'news', 'blog', 'cafearticle'\n",
    "    elif answer=='2' :\n",
    "        sNode = 'blog'\n",
    "    elif answer=='3' :\n",
    "        sNode = 'cafearticle'\n",
    "\n",
    "    targetURL = makeURL(sNode, search_text )    #1. URL 만들기\n",
    "    result = requestURL(targetURL)              #2. URL로 크롤링\n",
    "    #print(result)                              #3. 크롤링 결과 출력\n",
    "        \n",
    "    #4. 크롤링 전체 결과를 파일에 저장\n",
    "    filename = '%s_naver_%s_all.json' % (search_text, sNode)\n",
    "\n",
    "    with open(filename, 'w', encoding='utf8') as outfile:\n",
    "        outfile.write(result)\n",
    "    print(filename +' 저장 완료' )\n",
    "\n",
    "    #5. 크롤링 결과 중 일부만 파싱할 때\n",
    "    jsonResult = []\n",
    "    if result != None:\n",
    "        jsonSearch = json.loads(result)     # JSON 문자열을  파이썬 딕셔너리로 load\n",
    "\n",
    "        for post in jsonSearch['items'] :  # items에 있는 데이터만\n",
    "            title = post['title']\n",
    "            description = post['description']\n",
    "            if sNode=='news' :  #news만 originallink가 있음\n",
    "                org_link = post['originallink']\n",
    "            else :\n",
    "                org_link = \"\"\n",
    "\n",
    "            jsonResult.append({'title': title,\n",
    "                               'description': description,\n",
    "                               'org_link': org_link\n",
    "                                # ,'link': link\n",
    "                              })\n",
    "    retJson = json.dumps(jsonResult,   #파이썬 딕셔너리를 json 문자열로\n",
    "                         indent=4 ,     #들여쓰기 함\n",
    "                         ensure_ascii=False) #한글 인코딩\n",
    "    #print(retJson)\n",
    "\n",
    "\n",
    "    #6. 파싱 결과 일부만 파일에 저장\n",
    "    filename = '%s_naver_%s.json' % (search_text, sNode)\n",
    "    with open(filename, 'w', encoding='utf8') as  outfile:\n",
    "        outfile.write(retJson)\n",
    "    print(filename + ' 저장 완료')\n",
    "    "
   ]
  },
  {
   "cell_type": "code",
   "execution_count": 6,
   "metadata": {},
   "outputs": [
    {
     "name": "stdout",
     "output_type": "stream",
     "text": [
      "네이버 검색 프로그램입니다.\n",
      ">검색할 키워드를 입력하세요.제주도\n",
      ">검색 카테고리를 선택하세요 \n",
      "1. 네이버 뉴스,                    \n",
      "2. 네이버 블로그 \n",
      "3. 네이버 카페\n",
      "2\n",
      "Url Request Success\n",
      "제주도_naver_blog_all.json 저장 완료\n",
      "제주도_naver_blog.json 저장 완료\n"
     ]
    }
   ],
   "source": [
    "main()"
   ]
  },
  {
   "cell_type": "code",
   "execution_count": null,
   "metadata": {},
   "outputs": [],
   "source": []
  }
 ],
 "metadata": {
  "colab": {
   "provenance": []
  },
  "kernelspec": {
   "display_name": "Python 3 (ipykernel)",
   "language": "python",
   "name": "python3"
  },
  "language_info": {
   "codemirror_mode": {
    "name": "ipython",
    "version": 3
   },
   "file_extension": ".py",
   "mimetype": "text/x-python",
   "name": "python",
   "nbconvert_exporter": "python",
   "pygments_lexer": "ipython3",
   "version": "3.11.5"
  }
 },
 "nbformat": 4,
 "nbformat_minor": 1
}
