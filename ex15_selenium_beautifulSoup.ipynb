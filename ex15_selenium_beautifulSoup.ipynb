{
 "cells": [
  {
   "cell_type": "code",
   "execution_count": 1,
   "metadata": {},
   "outputs": [],
   "source": [
    "from selenium import webdriver\n",
    "# import chromedriver_autoinstaller\n",
    "\n",
    "# chromedriver_autoinstaller.install()  # Check if the current version of chromedriver exists\n",
    "#                                       # and if it doesn't exist, download it automatically,\n",
    "#                                       # then add chromedriver to path\n",
    "\n",
    "driver = webdriver.Chrome()\n",
    "# driver.get(\"https://www.naver.com/\")  \n",
    "driver.get(\"https://www.musinsa.com/\")\n",
    "\n",
    " \n",
    "from selenium.webdriver.common.by import By\n",
    "keyword_element = driver.find_element(By.ID, 'commonLayoutSearchForm')\n",
    "keyword_element.clear()\n",
    "keyword_element.send_keys(\"운동화\")\n"
   ]
  },
  {
   "cell_type": "code",
   "execution_count": 2,
   "metadata": {},
   "outputs": [],
   "source": [
    "button = driver.find_element(By.CLASS_NAME, 'sc-1ppcy5v-5')\n",
    "button.click()"
   ]
  },
  {
   "cell_type": "code",
   "execution_count": 27,
   "metadata": {},
   "outputs": [
    {
     "name": "stdout",
     "output_type": "stream",
     "text": [
      "[<p class=\"brand-shop__text__name\">\n",
      "<strong>아디다스</strong>\n",
      "</p>, <p class=\"brand-shop__text__name\">\n",
      "<strong>뉴발란스</strong>\n",
      "</p>, <p class=\"brand-shop__text__name\">\n",
      "<strong>아식스</strong>\n",
      "</p>, <p class=\"brand-shop__text__name\">\n",
      "<strong>리복</strong>\n",
      "</p>, <p class=\"brand-shop__text__name\">\n",
      "<strong>디스커버리 익스페디션</strong>\n",
      "</p>]\n"
     ]
    }
   ],
   "source": [
    "from bs4 import BeautifulSoup\n",
    "html = driver.page_source\n",
    "\n",
    "soup = BeautifulSoup(html, 'html.parser')\n",
    "\n",
    "\n",
    "## 브랜드 숍의 브랜드들 가져오기  \n",
    "raw_list = soup.find_all('p', class_=\"brand-shop__text__name\")\n",
    "print( raw_list ) "
   ]
  },
  {
   "cell_type": "code",
   "execution_count": 34,
   "metadata": {},
   "outputs": [
    {
     "name": "stdout",
     "output_type": "stream",
     "text": [
      "\n",
      "아디다스\n",
      "\n",
      "뉴발란스\n",
      "\n",
      "아식스\n",
      "\n",
      "리복\n",
      "\n",
      "디스커버리 익스페디션\n"
     ]
    }
   ],
   "source": [
    "## 브랜드 이름 가져오기  \n",
    "# a_list =  raw_list.find_all('p', class_=\"brand-shop__text__name\")\n",
    "for p in raw_list : \n",
    "    print(p.get_text(), end ='')"
   ]
  },
  {
   "cell_type": "code",
   "execution_count": 35,
   "metadata": {},
   "outputs": [],
   "source": [
    "# 드라이버 종료\n",
    "driver.quit()"
   ]
  }
 ],
 "metadata": {
  "kernelspec": {
   "display_name": "Python 3 (ipykernel)",
   "language": "python",
   "name": "python3"
  },
  "language_info": {
   "codemirror_mode": {
    "name": "ipython",
    "version": 3
   },
   "file_extension": ".py",
   "mimetype": "text/x-python",
   "name": "python",
   "nbconvert_exporter": "python",
   "pygments_lexer": "ipython3",
   "version": "3.11.5"
  }
 },
 "nbformat": 4,
 "nbformat_minor": 2
}
