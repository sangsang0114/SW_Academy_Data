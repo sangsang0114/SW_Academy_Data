{
 "cells": [
  {
   "cell_type": "markdown",
   "id": "9fe466c6",
   "metadata": {},
   "source": [
    "# 파파고 api를 이용하여 한글 -> 영어 변역"
   ]
  },
  {
   "cell_type": "code",
   "execution_count": 49,
   "id": "d291dc6d",
   "metadata": {},
   "outputs": [],
   "source": [
    "import os\n",
    "import sys\n",
    "import urllib.request\n",
    "import json\n",
    "\n",
    "client_id = \"id\"\n",
    "client_secret = \"key\""
   ]
  },
  {
   "cell_type": "code",
   "execution_count": 46,
   "id": "816abf2e",
   "metadata": {},
   "outputs": [],
   "source": [
    "def makeURL( ): \n",
    "    url = \"https://openapi.naver.com/v1/papago/n2mt\"\n",
    "    return url\n",
    "\n",
    "def requestURL(url, text, src_lang = 'ko', dst_lang='en'):\n",
    "    req = urllib.request.Request(url)\n",
    "    req.add_header(\"X-Naver-Client-Id\",   client_id)\n",
    "    req.add_header(\"X-Naver-Client-Secret\",  client_secret)\n",
    "    req.add_header(\"Content-Type\",\"application/x-www-form-urlencoded; charset=UTF-8\" )\n",
    "\n",
    "    # POST 방식 요청으로 JSON 데이터를 전달 ( source, target, text ) \n",
    "    details = urllib.parse.urlencode({\"source\":src_lang ,\"target\":dst_lang,\"text\":text} )\n",
    "    details = details.encode(\"utf-8\")\n",
    "    try:\n",
    "        response = urllib.request.urlopen(req, details )  # 크롤링\n",
    "        if  response.status == 200  :  # 200이면 정상 응답\n",
    "            #print(\"Url Request Success\")\n",
    "            data =response.read().decode('utf-8')\n",
    "            return data  # 크롤링 결과 반환\n",
    "\n",
    "    except Exception as e:  # url로 요청 중 오류가 발생시 실행\n",
    "        print(e)\n",
    "        print(\"Error for URL : %s\" %url)\n",
    "        return None"
   ]
  },
  {
   "cell_type": "code",
   "execution_count": 47,
   "id": "037af559",
   "metadata": {},
   "outputs": [],
   "source": [
    "def main():\n",
    "    user_input = input('번역하고 싶은 문자열을 입력하세요.\\n->')\n",
    "    url = makeURL()\n",
    "    result = requestURL(url,user_input)\n",
    "    res_dict = json.load.s(result)\n",
    "    \n",
    "    print(res_dict['message']['result']['translatedText'])"
   ]
  },
  {
   "cell_type": "code",
   "execution_count": 48,
   "id": "5aa36413",
   "metadata": {},
   "outputs": [
    {
     "name": "stdout",
     "output_type": "stream",
     "text": [
      "번역하고 싶은 문자열을 입력하세요.\n",
      "->여기서 가장 가까운 은행은 어디에 있나요?\n",
      "Where is the nearest bank from here?\n"
     ]
    }
   ],
   "source": [
    "if __name__ == \"__main__\":\n",
    "    main()"
   ]
  },
  {
   "cell_type": "markdown",
   "id": "e7233636",
   "metadata": {},
   "source": [
    "# 네이버 파파고 API 레퍼런스 예제 코드(참고)"
   ]
  },
  {
   "cell_type": "code",
   "execution_count": 39,
   "id": "eb056db8",
   "metadata": {},
   "outputs": [
    {
     "name": "stdout",
     "output_type": "stream",
     "text": [
      "번역할 단어를 입력하시오 : ㅁㅁ\n",
      "{\"message\":{\"@type\":\"response\",\"@service\":\"naverservice.nmt.proxy\",\"@version\":\"1.0.0\",\"result\":{\"srcLangType\":\"ko\",\"tarLangType\":\"en\",\"translatedText\":\"June 25th\",\"engineType\":\"PRETRANS\"}}}\n"
     ]
    }
   ],
   "source": [
    "encText = urllib.parse.quote(input('번역할 단어를 입력하시오 : '))\n",
    "data = \"source=ko&target=en&text=\" + encText\n",
    "url = \"https://openapi.naver.com/v1/papago/n2mt\"\n",
    "request = urllib.request.Request(url)\n",
    "request.add_header(\"X-Naver-Client-Id\",client_id)\n",
    "request.add_header(\"X-Naver-Client-Secret\",client_secret)\n",
    "response = urllib.request.urlopen(request, data=data.encode(\"utf-8\"))\n",
    "rescode = response.getcode()\n",
    "if(rescode==200):\n",
    "    response_body = response.read()\n",
    "    print(response_body.decode('utf-8'))\n",
    "else:\n",
    "    print(\"Error Code:\" + rescode)"
   ]
  },
  {
   "cell_type": "code",
   "execution_count": null,
   "id": "9f550df4",
   "metadata": {},
   "outputs": [],
   "source": []
  }
 ],
 "metadata": {
  "kernelspec": {
   "display_name": "Python 3 (ipykernel)",
   "language": "python",
   "name": "python3"
  },
  "language_info": {
   "codemirror_mode": {
    "name": "ipython",
    "version": 3
   },
   "file_extension": ".py",
   "mimetype": "text/x-python",
   "name": "python",
   "nbconvert_exporter": "python",
   "pygments_lexer": "ipython3",
   "version": "3.11.5"
  }
 },
 "nbformat": 4,
 "nbformat_minor": 5
}
