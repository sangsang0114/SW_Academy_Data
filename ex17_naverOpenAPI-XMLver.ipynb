{
 "cells": [
  {
   "cell_type": "code",
   "execution_count": 38,
   "metadata": {
    "id": "q52FzirfzFSD"
   },
   "outputs": [],
   "source": [
    "import urllib.request\n",
    "from bs4 import BeautifulSoup\n",
    "client_id = \"client_id\"\n",
    "client_secret = \"client_secret\""
   ]
  },
  {
   "cell_type": "code",
   "execution_count": 39,
   "metadata": {
    "id": "ikjSkDT9zFSE"
   },
   "outputs": [],
   "source": [
    "def makeURL(sNode, search_text ):\n",
    "    base = \"https://openapi.naver.com/v1/search\"\n",
    "    node = \"/%s.xml\" % sNode\n",
    "    parameters = \"?query=%s\" % urllib.parse.quote(search_text)\n",
    "    url = base + node + parameters\n",
    "    return url"
   ]
  },
  {
   "cell_type": "code",
   "execution_count": 40,
   "metadata": {
    "id": "kUhZZSJyzFSE"
   },
   "outputs": [],
   "source": [
    "def requestURL(url):\n",
    "    req = urllib.request.Request(url)\n",
    "    req.add_header (\"X-Naver-Client-Id\",   client_id )  # open api 키를 header에 추가\n",
    "    req.add_header(\"X-Naver-Client-Secret\",  client_secret)  # open api 키를 header에 추가\n",
    "    try:\n",
    "        response = urllib.request.urlopen(req)   # 크롤링\n",
    "        if  response.status == 200 :  # 200이면 정상 응답\n",
    "            print(\"Url Request Success\")\n",
    "            data = response.read().decode('utf-8')\n",
    "            return data  # 크롤링 결과 반환\n",
    "\n",
    "    except Exception as e:  # url로 요청 중 오류가 발생시 실행\n",
    "        print(e)\n",
    "        print(\"Error for URL : %s\" %url)\n",
    "        return None"
   ]
  },
  {
   "cell_type": "code",
   "execution_count": 45,
   "metadata": {
    "id": "feP5TjBHzFSF"
   },
   "outputs": [],
   "source": [
    "def main():\n",
    "    sNode = 'news'  # 'news', 'blog', 'cafearticle'\n",
    "    search_text = input(\">검색할 키워드를 입력하세요. : \")\n",
    "\n",
    "    targetURL = makeURL(sNode, search_text )    #1. URL 만들기\n",
    "    result = requestURL(targetURL)              #2. URL로 크롤링\n",
    "    #print(result)                               #3. 크롤링 결과 출력\n",
    "    \n",
    "    bs = BeautifulSoup(result, 'lxml')\n",
    "    \n",
    "    titles = bs.find_all('title')\n",
    "    for title in titles:\n",
    "        print(title.get_text())\n",
    "    "
   ]
  },
  {
   "cell_type": "code",
   "execution_count": 46,
   "metadata": {
    "id": "HukEXtcJzFSF"
   },
   "outputs": [
    {
     "name": "stdout",
     "output_type": "stream",
     "text": [
      ">검색할 키워드를 입력하세요. : 맥북\n",
      "Url Request Success\n",
      "Naver Open API - news ::'맥북'\n",
      "로지텍, 디지털 빅세일 통해 콤보터치 등 할인 프로모션 진행\n",
      "에스라이즈, 로지텍 콤보터치 크레용 할인 프로모션 진행\n",
      "[영상] 삼성디스플레이, 첫번째 IT용 8세대 OLED 증착기 다음달 반입\n",
      "트레이더스, 가성비 음식물 처리기 출시\n",
      "신한투자증권 '국내주식 거래·국내주식 입고 이벤트' 개최\n",
      "이마트, 신학기 맞아 학생가구 할인 판매\n",
      "아트뮤, PD3.1 지원 240W GaN 접지 멀티충전기 출시\n",
      "&quot;방학끝, 신학기 준비 시작&quot;...유통업계, 물가부담 덜어줄 할인전 '풍성'\n",
      "거짓말쟁이 AI가 훌륭한 직원이 된 사연\n",
      "롯데하이마트-G마켓-옥션, 새학기 전자제품 프로모션 진행\n"
     ]
    }
   ],
   "source": [
    "if __name__==\"__main__\" :\n",
    "    main()"
   ]
  },
  {
   "cell_type": "code",
   "execution_count": null,
   "metadata": {},
   "outputs": [],
   "source": []
  }
 ],
 "metadata": {
  "colab": {
   "provenance": []
  },
  "kernelspec": {
   "display_name": "Python 3 (ipykernel)",
   "language": "python",
   "name": "python3"
  },
  "language_info": {
   "codemirror_mode": {
    "name": "ipython",
    "version": 3
   },
   "file_extension": ".py",
   "mimetype": "text/x-python",
   "name": "python",
   "nbconvert_exporter": "python",
   "pygments_lexer": "ipython3",
   "version": "3.11.5"
  }
 },
 "nbformat": 4,
 "nbformat_minor": 1
}
