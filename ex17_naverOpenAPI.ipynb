{
 "cells": [
  {
   "cell_type": "code",
   "execution_count": 7,
   "metadata": {
    "id": "q52FzirfzFSD"
   },
   "outputs": [],
   "source": [
    "import urllib.request\n",
    "client_id = \"Client id\"\n",
    "client_secret = \"client key\""
   ]
  },
  {
   "cell_type": "code",
   "execution_count": 8,
   "metadata": {
    "id": "ikjSkDT9zFSE"
   },
   "outputs": [],
   "source": [
    "def makeURL(sNode, search_text ):\n",
    "    base = \"https://openapi.naver.com/v1/search\"\n",
    "    node = \"/%s.json\" % sNode\n",
    "    parameters = \"?query=%s\" % urllib.parse.quote(search_text)\n",
    "    url = base + node + parameters\n",
    "    return url"
   ]
  },
  {
   "cell_type": "code",
   "execution_count": 9,
   "metadata": {
    "id": "kUhZZSJyzFSE"
   },
   "outputs": [],
   "source": [
    "def requestURL(url):\n",
    "    req = urllib.request.Request(url)\n",
    "    req.add_header (\"X-Naver-Client-Id\",   client_id )  # open api 키를 header에 추가\n",
    "    req.add_header(\"X-Naver-Client-Secret\",  client_secret)  # open api 키를 header에 추가\n",
    "    try:\n",
    "        response = urllib.request.urlopen(req)   # 크롤링\n",
    "        if  response.status == 200 :  # 200이면 정상 응답\n",
    "            print(\"Url Request Success\")\n",
    "            data = response.read().decode('utf-8')\n",
    "            return data  # 크롤링 결과 반환\n",
    "\n",
    "    except Exception as e:  # url로 요청 중 오류가 발생시 실행\n",
    "        print(e)\n",
    "        print(\"Error for URL : %s\" %url)\n",
    "        return None"
   ]
  },
  {
   "cell_type": "code",
   "execution_count": 10,
   "metadata": {
    "id": "feP5TjBHzFSF"
   },
   "outputs": [],
   "source": [
    "def main():\n",
    "    sNode = 'news'  # 'news', 'blog', 'cafearticle'\n",
    "    search_text = input(\">검색할 키워드를 입력하세요. : \")\n",
    "\n",
    "    targetURL = makeURL(sNode, search_text )    #1. URL 만들기\n",
    "    result = requestURL(targetURL)              #2. URL로 크롤링\n",
    "    print(result)                               #3. 크롤링 결과 출력"
   ]
  },
  {
   "cell_type": "code",
   "execution_count": 11,
   "metadata": {
    "id": "HukEXtcJzFSF"
   },
   "outputs": [
    {
     "name": "stdout",
     "output_type": "stream",
     "text": [
      ">검색할 키워드를 입력하세요. : 테슬라\n",
      "Url Request Success\n",
      "{\n",
      "\t\"lastBuildDate\":\"Mon, 19 Feb 2024 16:27:12 +0900\",\n",
      "\t\"total\":350460,\n",
      "\t\"start\":1,\n",
      "\t\"display\":10,\n",
      "\t\"items\":[\n",
      "\t\t{\n",
      "\t\t\t\"title\":\"[시승기] 메이드 인 차이나면 어떠랴…<b>테슬라<\\/b>가 <b>테슬라<\\/b> 하다\",\n",
      "\t\t\t\"originallink\":\"http:\\/\\/www.dailyimpact.co.kr\\/news\\/articleView.html?idxno=111534\",\n",
      "\t\t\t\"link\":\"http:\\/\\/www.dailyimpact.co.kr\\/news\\/articleView.html?idxno=111534\",\n",
      "\t\t\t\"description\":\"<b>테슬라<\\/b>의 중형 전기 스포츠 유틸리티 차(SUV), '모델 Y RWD(후륜구동)'에는 두 가지의 상반된 모습이 공존한다. '세계 제일의 전기차 브랜드' <b>테슬라<\\/b>가, 중국에서 생산해 중국의 배터리를 탑재한 '메이드 인 차이나(MADE IN... \",\n",
      "\t\t\t\"pubDate\":\"Mon, 19 Feb 2024 16:20:00 +0900\"\n",
      "\t\t},\n",
      "\t\t{\n",
      "\t\t\t\"title\":\"'페이팔의 대부'가 움직였다…비트코인 최고치 돌파 주목\",\n",
      "\t\t\t\"originallink\":\"https:\\/\\/www.mk.co.kr\\/article\\/10946047\",\n",
      "\t\t\t\"link\":\"https:\\/\\/n.news.naver.com\\/mnews\\/article\\/009\\/0005260602?sid=105\",\n",
      "\t\t\t\"description\":\"피터 틸은 일론 머스크 <b>테슬라<\\/b> 최고경영자(CEO)와 함께 1999년 온라인 결제 시스템 페이팔을 공동 창업해 2002년 이베이에 15억달러(약 2조원)에 매각했다. 실리콘밸리에서는 페이팔 출신의 성공적인 기업인들을 일컬어... \",\n",
      "\t\t\t\"pubDate\":\"Mon, 19 Feb 2024 16:12:00 +0900\"\n",
      "\t\t},\n",
      "\t\t{\n",
      "\t\t\t\"title\":\"<b>테슬라<\\/b> 사이버트럭VS 포르쉐 911, 진짜 해 봤다\",\n",
      "\t\t\t\"originallink\":\"https:\\/\\/evlounge.donga.com\\/FOREV\\/3\\/all\\/20240219\\/123588813\\/1\",\n",
      "\t\t\t\"link\":\"https:\\/\\/evlounge.donga.com\\/FOREV\\/3\\/all\\/20240219\\/123588813\\/1\",\n",
      "\t\t\t\"description\":\"지난 해 영상 조작으로 논란이 됐던 <b>테슬라<\\/b> 사이버트럭의 911 드래그레이스, 한 유튜버가 이를 직접 실험해 화제가 됐습니다. <b>테슬라<\\/b>는 지난해 11월 사이버트럭을 처음 고객에 인도하면서 행사를 통해 포르쉐 911을... \",\n",
      "\t\t\t\"pubDate\":\"Mon, 19 Feb 2024 16:12:00 +0900\"\n",
      "\t\t},\n",
      "\t\t{\n",
      "\t\t\t\"title\":\"[ET톡]BYD 전기차 韓 진출, 파급력 주목해야\",\n",
      "\t\t\t\"originallink\":\"https:\\/\\/www.etnews.com\\/20240219000271\",\n",
      "\t\t\t\"link\":\"https:\\/\\/n.news.naver.com\\/mnews\\/article\\/030\\/0003182044?sid=103\",\n",
      "\t\t\t\"description\":\"BYD는 지난해 4분기 전기차 52만6409대를 판매, 48만4507대 판매에 그친 <b>테슬라<\\/b>를 제치고 순수 전기차 판매 세계 1위에 등극했다. BYD의 가장 큰 장점은 경쟁사를 압도하는 저렴한 가격이다. 전기차 수요가 둔화되면서... \",\n",
      "\t\t\t\"pubDate\":\"Mon, 19 Feb 2024 16:02:00 +0900\"\n",
      "\t\t},\n",
      "\t\t{\n",
      "\t\t\t\"title\":\"'역사적 랠리' 美증시 최대 리스크…&quot;중동분쟁 지정학적 우려&quot;\",\n",
      "\t\t\t\"originallink\":\"https:\\/\\/www.yna.co.kr\\/view\\/AKR20240219106400009?input=1195m\",\n",
      "\t\t\t\"link\":\"https:\\/\\/n.news.naver.com\\/mnews\\/article\\/001\\/0014513851?sid=101\",\n",
      "\t\t\t\"description\":\"미국의 전기차업체 <b>테슬라<\\/b>는 지난 1월 공급 차질을 이유로 독일 공장의 생산중단을 발표했으며, 의료기기업체 레스메드는 운임과 리드타임(제품 주문에서 납품까지의 시간)에 영향을 받고 있다고 밝혔다. 네트워크 장비... \",\n",
      "\t\t\t\"pubDate\":\"Mon, 19 Feb 2024 16:01:00 +0900\"\n",
      "\t\t},\n",
      "\t\t{\n",
      "\t\t\t\"title\":\"[주간 증시 전망] 늦어지는 美 금리 인하에도 빅테크 '훈풍'…이번주 투자 전...\",\n",
      "\t\t\t\"originallink\":\"https:\\/\\/biz.sbs.co.kr\\/article_hub\\/20000157597?division=NAVER\",\n",
      "\t\t\t\"link\":\"https:\\/\\/n.news.naver.com\\/mnews\\/article\\/374\\/0000371024?sid=101\",\n",
      "\t\t\t\"description\":\"4분기 실적 부진으로 하락세를 보이던 <b>테슬라<\\/b>가 지난주 금요일에 CEO 리스크가 해소된다는 기대감에 상승세를 보였는데, 상승세 지속될까요? Q. 1월 미국 소비자물가 쇼크와 1월 소매판매 부진을 보면 미국 경제에 대한... \",\n",
      "\t\t\t\"pubDate\":\"Mon, 19 Feb 2024 16:01:00 +0900\"\n",
      "\t\t},\n",
      "\t\t{\n",
      "\t\t\t\"title\":\"&quot;주말동안 125% 폭등&quot;…샘 올트먼 '월드코인'에 무슨 일이\",\n",
      "\t\t\t\"originallink\":\"http:\\/\\/www.newsis.com\\/view\\/?id=NISX20240219_0002631608&cID=15001&pID=15000\",\n",
      "\t\t\t\"link\":\"https:\\/\\/n.news.naver.com\\/mnews\\/article\\/003\\/0012380696?sid=101\",\n",
      "\t\t\t\"description\":\"밈코인 대표주자 도지코인이 일론 머스크 <b>테슬라<\\/b> 최고경영자(CEO) 후광에 따라 급등하는 현상과 같은 상승 논리다. 19일 업계에 따르면 월드코인은 지난 주말 코인 시장에서 가장 높은 상승률을 보였다. 대장주... \",\n",
      "\t\t\t\"pubDate\":\"Mon, 19 Feb 2024 15:59:00 +0900\"\n",
      "\t\t},\n",
      "\t\t{\n",
      "\t\t\t\"title\":\"4~5년 걸리는 사이버트럭 예약 대기 45일로 당기는 비법이 있다?\",\n",
      "\t\t\t\"originallink\":\"https:\\/\\/www.thedrive.co.kr\\/news\\/newsview.php?ncode=1065595837805927\",\n",
      "\t\t\t\"link\":\"https:\\/\\/www.thedrive.co.kr\\/news\\/newsview.php?ncode=1065595837805927\",\n",
      "\t\t\t\"description\":\"<b>테슬라<\\/b> 사이버트럭 오너스클럽 포럼에 사이버트럭 배송을 보다 빠르게 받을 수 있는 프로그램에 관한... 1인당 <b>테슬라<\\/b> 계정 하나로 제한되며, 양도할 수 없다. 추천 크레딧은 <b>테슬라<\\/b> 구매를 위해 누군가를... \",\n",
      "\t\t\t\"pubDate\":\"Mon, 19 Feb 2024 15:56:00 +0900\"\n",
      "\t\t},\n",
      "\t\t{\n",
      "\t\t\t\"title\":\"코스피 다음은 코스닥?…&quot;지금이라도 코스닥 사라&quot;\",\n",
      "\t\t\t\"originallink\":\"http:\\/\\/www.metroseoul.co.kr\\/article\\/20240219500558\",\n",
      "\t\t\t\"link\":\"http:\\/\\/www.metroseoul.co.kr\\/article\\/20240219500558\",\n",
      "\t\t\t\"description\":\"정부로 이어지면서는 녹색성장, 창조경제 등으로 정부 지원이 맞춰졌다. 문재인 정부에선 코스닥 벤처펀드 활성화, 신성장 연구개발(R&amp;D) 세액공제 확대, <b>테슬라<\\/b> 요건 도입, 중소기업 정책자금 융자 등이 허용된 바 있다.\",\n",
      "\t\t\t\"pubDate\":\"Mon, 19 Feb 2024 15:50:00 +0900\"\n",
      "\t\t},\n",
      "\t\t{\n",
      "\t\t\t\"title\":\"'토요타·폭스바겐 게 섯거라'…현대차·기아, 2년째 세계 3위 판매량 질주\",\n",
      "\t\t\t\"originallink\":\"https:\\/\\/www.newspim.com\\/news\\/view\\/20240219000699\",\n",
      "\t\t\t\"link\":\"https:\\/\\/www.newspim.com\\/news\\/view\\/20240219000699\",\n",
      "\t\t\t\"description\":\"BYD는 288만대를 판매해 전년 동기 대비 58.3% 성장해 1위를 기록했으며, <b>테슬라<\\/b>는 전년 대비 37.7% 증가한 180만대를 팔아 2위였다. 3위는 폭스바겐그룹으로 99만대를 팔았다. 4위는 상하이차로 90만8000대, 5위 지리자동차... \",\n",
      "\t\t\t\"pubDate\":\"Mon, 19 Feb 2024 15:49:00 +0900\"\n",
      "\t\t}\n",
      "\t]\n",
      "}\n"
     ]
    }
   ],
   "source": [
    "if __name__==\"__main__\" :\n",
    "    main()"
   ]
  }
 ],
 "metadata": {
  "colab": {
   "provenance": []
  },
  "kernelspec": {
   "display_name": "Python 3 (ipykernel)",
   "language": "python",
   "name": "python3"
  },
  "language_info": {
   "codemirror_mode": {
    "name": "ipython",
    "version": 3
   },
   "file_extension": ".py",
   "mimetype": "text/x-python",
   "name": "python",
   "nbconvert_exporter": "python",
   "pygments_lexer": "ipython3",
   "version": "3.11.5"
  }
 },
 "nbformat": 4,
 "nbformat_minor": 1
}
