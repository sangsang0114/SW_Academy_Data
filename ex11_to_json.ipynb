{
 "cells": [
  {
   "cell_type": "code",
   "execution_count": 2,
   "metadata": {},
   "outputs": [
    {
     "name": "stdout",
     "output_type": "stream",
     "text": [
      "<class 'str'> {\"1\": \"guitar\", \"2\": \"violin\", \"3\": \"piano\"}\n"
     ]
    }
   ],
   "source": [
    "import json\n",
    "inst = { 1:\"guitar\" , 2:\"violin\", 3:\"piano\"} \n",
    "\n",
    "to_json = json.dumps(inst)\n",
    "print(type(to_json),to_json )"
   ]
  },
  {
   "cell_type": "code",
   "execution_count": 3,
   "metadata": {},
   "outputs": [
    {
     "name": "stdout",
     "output_type": "stream",
     "text": [
      "{\n",
      "    \"1\": \"guitar\",\n",
      "    \"2\": \"violin\",\n",
      "    \"3\": \"piano\"\n",
      "}\n"
     ]
    }
   ],
   "source": [
    "to_json = json.dumps(inst, indent=4)\n",
    "print( to_json )"
   ]
  },
  {
   "cell_type": "code",
   "execution_count": 4,
   "metadata": {},
   "outputs": [
    {
     "name": "stdout",
     "output_type": "stream",
     "text": [
      "[\n",
      "    {\n",
      "        \"1\": \"guitar\",\n",
      "        \"2\": \"violin\",\n",
      "        \"3\": \"piano\"\n",
      "    },\n",
      "    {\n",
      "        \"1\": \"guitar\",\n",
      "        \"2\": \"violin\",\n",
      "        \"3\": \"piano\"\n",
      "    }\n",
      "]\n"
     ]
    }
   ],
   "source": [
    "inst =   [  { 1:\"guitar\" , 2:\"violin\", 3:\"piano\"} ,  \n",
    "          { 1:\"guitar\" , 2:\"violin\", 3:\"piano\"} ]    \n",
    "\n",
    "to_json = json.dumps(inst, indent=4)\n",
    "print(to_json )"
   ]
  }
 ],
 "metadata": {
  "kernelspec": {
   "display_name": "Python 3 (ipykernel)",
   "language": "python",
   "name": "python3"
  },
  "language_info": {
   "codemirror_mode": {
    "name": "ipython",
    "version": 3
   },
   "file_extension": ".py",
   "mimetype": "text/x-python",
   "name": "python",
   "nbconvert_exporter": "python",
   "pygments_lexer": "ipython3",
   "version": "3.11.5"
  }
 },
 "nbformat": 4,
 "nbformat_minor": 2
}
