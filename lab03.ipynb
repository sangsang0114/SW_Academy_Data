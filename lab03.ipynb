{
 "cells": [
  {
   "cell_type": "markdown",
   "id": "94f1cd27",
   "metadata": {},
   "source": [
    "\n",
    "매일 naver 부동산의 \n",
    "\n",
    "오늘의 뉴스 중 첫번째 뉴스를 \n",
    "\n",
    "클릭하여 뉴스의 상세 내용을 \n",
    "\n",
    "크롤링하는 프로그램을 작성하세요.\n",
    "\n",
    "(Selenium 과 BeautifulSoup 이용)"
   ]
  },
  {
   "cell_type": "code",
   "execution_count": 98,
   "id": "2f1926cf",
   "metadata": {},
   "outputs": [],
   "source": [
    "from selenium import webdriver\n",
    "driver = webdriver.Chrome()"
   ]
  },
  {
   "cell_type": "code",
   "execution_count": 99,
   "id": "2072a4a6",
   "metadata": {},
   "outputs": [],
   "source": [
    "driver.get(\"https://land.naver.com/\")"
   ]
  },
  {
   "cell_type": "code",
   "execution_count": 100,
   "id": "0b5c6e80",
   "metadata": {},
   "outputs": [],
   "source": [
    "from selenium.webdriver.common.by import By\n",
    "title_element = driver.find_element(By.XPATH, '//*[@id=\"todayNewsListEle\"]/h3/a')\n",
    "title_element.click()\n",
    "\n",
    "driver.implicitly_wait(2)\n",
    "driver.switch_to.window(driver.window_handles[1]) #새 창으로 열릴 때 새창으로 포커스"
   ]
  },
  {
   "cell_type": "code",
   "execution_count": 101,
   "id": "e0522161",
   "metadata": {},
   "outputs": [],
   "source": [
    "from bs4 import BeautifulSoup\n",
    "html = driver.page_source\n",
    "\n",
    "soup = BeautifulSoup(html, 'html.parser')\n",
    "\n",
    "html_body = soup.find('body')"
   ]
  },
  {
   "cell_type": "code",
   "execution_count": 102,
   "id": "675a1874",
   "metadata": {},
   "outputs": [],
   "source": [
    "summary = soup.find('strong', class_='media_end_summary')"
   ]
  },
  {
   "cell_type": "code",
   "execution_count": 103,
   "id": "4bf378f4",
   "metadata": {},
   "outputs": [
    {
     "name": "stdout",
     "output_type": "stream",
     "text": [
      "■ '알짜지역 청약'서 소외된 1인·다자녀 가구4년새 강남 당첨 커트라인 67점추첨제 생겼지만 '하늘의 별따기'다자녀 가구 특공도 '13평' 수준수도권 거주자 기회 제한도 불만\"소득 반영 등 가점체계 조정해야\"\n"
     ]
    }
   ],
   "source": [
    "print(summary.get_text())"
   ]
  },
  {
   "cell_type": "code",
   "execution_count": null,
   "id": "2767b55b",
   "metadata": {},
   "outputs": [],
   "source": []
  }
 ],
 "metadata": {
  "kernelspec": {
   "display_name": "Python 3 (ipykernel)",
   "language": "python",
   "name": "python3"
  },
  "language_info": {
   "codemirror_mode": {
    "name": "ipython",
    "version": 3
   },
   "file_extension": ".py",
   "mimetype": "text/x-python",
   "name": "python",
   "nbconvert_exporter": "python",
   "pygments_lexer": "ipython3",
   "version": "3.11.5"
  }
 },
 "nbformat": 4,
 "nbformat_minor": 5
}
