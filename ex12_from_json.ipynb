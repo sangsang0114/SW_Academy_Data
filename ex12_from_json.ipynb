{
 "cells": [
  {
   "cell_type": "code",
   "execution_count": 6,
   "metadata": {},
   "outputs": [
    {
     "name": "stdout",
     "output_type": "stream",
     "text": [
      "piano\n"
     ]
    }
   ],
   "source": [
    "import json\n",
    "inst = '{ \"1\":\"guitar\" , \"2\":\"violin\", \"3\":\"piano\"} ' # json 문자열\n",
    " \n",
    "fromJson = json.loads(inst)\n",
    "print(fromJson[\"3\"])"
   ]
  },
  {
   "cell_type": "code",
   "execution_count": 7,
   "metadata": {},
   "outputs": [
    {
     "name": "stdout",
     "output_type": "stream",
     "text": [
      "<class 'list'>\n",
      "<class 'dict'>\n",
      "violin\n"
     ]
    }
   ],
   "source": [
    "inst = '''[ { \"1\":\"guitar\" , \"2\":\"violin\", \"3\":\"piano\"} , \n",
    "            { \"1\":\"guitar\" , \"22\":\"violin\", \"3\":\"piano\"}  \n",
    "          ]''' # json 배열 문자열\n",
    " \n",
    "fromJson = json.loads(inst)\n",
    "print(type(fromJson)) \n",
    "print(type( fromJson [0]))\n",
    "print(fromJson[1][\"22\"])"
   ]
  }
 ],
 "metadata": {
  "kernelspec": {
   "display_name": "Python 3 (ipykernel)",
   "language": "python",
   "name": "python3"
  },
  "language_info": {
   "codemirror_mode": {
    "name": "ipython",
    "version": 3
   },
   "file_extension": ".py",
   "mimetype": "text/x-python",
   "name": "python",
   "nbconvert_exporter": "python",
   "pygments_lexer": "ipython3",
   "version": "3.11.5"
  }
 },
 "nbformat": 4,
 "nbformat_minor": 2
}
