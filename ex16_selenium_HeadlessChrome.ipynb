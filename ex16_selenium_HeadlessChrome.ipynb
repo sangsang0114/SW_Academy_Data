{
 "cells": [
  {
   "cell_type": "code",
   "execution_count": 2,
   "id": "93ad36df",
   "metadata": {
    "id": "93ad36df",
    "outputId": "b721a519-0e07-4c7a-9157-9bcb4861abb6"
   },
   "outputs": [
    {
     "name": "stdout",
     "output_type": "stream",
     "text": [
      "페이지 제목: NAVER\n"
     ]
    }
   ],
   "source": [
    "#Headless Chrome을 사용하면 화면을 띄우지 않고도 자동화 작업을 수행할 수 있어서 서버 환경에서도 유용하게 사용됩니다.\n",
    "\n",
    "from selenium import webdriver\n",
    "from selenium.webdriver.chrome.options import Options\n",
    "\n",
    "# Headless Chrome 설정\n",
    "chrome_options = Options()\n",
    "chrome_options.add_argument(\"--headless\")  # 헤드리스 모드 활성화\n",
    "\n",
    "# ChromeDriver 실행\n",
    "driver = webdriver.Chrome(options=chrome_options)\n",
    "\n",
    "# 웹 페이지 로드\n",
    "driver.get(\"https://www.naver.com\")\n",
    "\n",
    "# 페이지 제목 출력\n",
    "print(\"페이지 제목:\", driver.title)\n",
    "\n",
    "# 드라이버 종료\n",
    "driver.quit()\n"
   ]
  }
 ],
 "metadata": {
  "colab": {
   "provenance": []
  },
  "kernelspec": {
   "display_name": "Python 3 (ipykernel)",
   "language": "python",
   "name": "python3"
  },
  "language_info": {
   "codemirror_mode": {
    "name": "ipython",
    "version": 3
   },
   "file_extension": ".py",
   "mimetype": "text/x-python",
   "name": "python",
   "nbconvert_exporter": "python",
   "pygments_lexer": "ipython3",
   "version": "3.11.5"
  }
 },
 "nbformat": 4,
 "nbformat_minor": 5
}
